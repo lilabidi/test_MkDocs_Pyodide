{
 "cells": [
  {
   "cell_type": "markdown",
   "metadata": {},
   "source": [
    "# La classe Fractions en Python"
   ]
  },
  {
   "cell_type": "markdown",
   "metadata": {},
   "source": [
    "Pour créer une classe en Python, on procède ainsi :\n",
    "\n",
    "```python\n",
    "class nom_de_la_classe:\n",
    "    def __init__(self,at1,at2)\n",
    "        self.set_attribut1(at1)\n",
    "        ...\n",
    "    \n",
    "    def set_attribut1(self,nouvelle_valeur):\n",
    "        ...\n",
    "    ...\n",
    "```\n",
    "\n",
    "Le *self* représente l'instance que l'on créera à chaque appel de la classe Fractions.\n",
    "\n",
    "Quand on aura créé l'instance *frac1*, tous les *self* qui se trouveront dans la classe Fractions seront remplacés par *frac1*.\n",
    "\n",
    "1) Complétez la classe Fractions ci-dessous pour que les tests de la cellule suivante fonctionnent :"
   ]
  },
  {
   "cell_type": "code",
   "execution_count": 38,
   "metadata": {},
   "outputs": [],
   "source": [
    "class Fractions:\n",
    "    # on definit le constructeur de la fraction\n",
    "    def __init__(self,num,denom):\n",
    "        self.set_numerateur(num)  # set_numerateur fait référence à une méthode ci-dessous qui permet de rentrer la valeur de l'attribut numerateur\n",
    "        self.set_denominateur(...)\n",
    "        \n",
    "        \n",
    "    # on définit les accesseurs en écriture qui vont permettre de rentrer ou modifier les valeurs des attributs\n",
    "    def set_numerateur(self,nouveau_numerateur):\n",
    "        self.numerateur=nouveau_numerateur\n",
    "        \n",
    "    def set_denominateur(....):\n",
    "        assert nouveau_denominateur ...., \"Attention, le dénominateur ne peut pas être nul\"\n",
    "        ...\n",
    "        \n",
    "    # on définit les accesseurs en lecture qui vont permettre de récupérer les valeurs des attributs\n",
    "    def get_numerateur(self):\n",
    "        return self.numerateur\n",
    "    \n",
    "    def get_denominateur(...):\n",
    "        return ...\n",
    "    \n",
    "        \n",
    "    # on définit les différentes méthodes\n",
    "    \n",
    "    ##def additionner(self,autre):\n",
    "\n",
    "    \n",
    "    ##def soustraire(self,autre):\n",
    "  \n",
    "    \n",
    "    def multiplier(self,autre):\n",
    "        num=self.get_numerateur()*autre.get_numerateur()\n",
    "        denom=...\n",
    "        return Fractions(...,...)\n",
    "    \n",
    "    ##def diviser(self,autre):\n",
    "        \n",
    "    \n",
    "    # on définit la méthode permettant l'affichage à l'aide de print\n",
    "    def __str__(self):\n",
    "        affiche=f\"{str(self.get_numerateur())}/{str(self.get_denominateur())}\"\n",
    "        return affiche  "
   ]
  },
  {
   "cell_type": "code",
   "execution_count": 25,
   "metadata": {},
   "outputs": [
    {
     "name": "stdout",
     "output_type": "stream",
     "text": [
      "numérateur de frac1 = 2\n",
      "frac1 = 2/3\n",
      "frac2 = 4/5\n",
      "frac2 = 4/7\n",
      "frac3 = 8/21\n"
     ]
    }
   ],
   "source": [
    "frac1=Fractions(2,3)\n",
    "frac2=Fractions(4,5)\n",
    "print (f\"numérateur de frac1 = {frac1.get_numerateur()}\")\n",
    "print (f\"frac1 = {frac1}\")\n",
    "print (f\"frac2 = {frac2}\")\n",
    "frac2.set_denominateur(7)\n",
    "print (f\"frac2 = {frac2}\")\n",
    "frac3=frac1.multiplier(frac2)\n",
    "print(f\"frac3 = {frac3}\")"
   ]
  },
  {
   "cell_type": "markdown",
   "metadata": {},
   "source": [
    "2) Compléter les autres méthodes opératoires pour que les test des cellules ci-dessous fonctionnent :"
   ]
  },
  {
   "cell_type": "code",
   "execution_count": 26,
   "metadata": {},
   "outputs": [
    {
     "name": "stdout",
     "output_type": "stream",
     "text": [
      "frac4 = 14/12\n"
     ]
    }
   ],
   "source": [
    "frac4=frac1.diviser(frac2)\n",
    "print(f\"frac4 = {frac4}\")"
   ]
  },
  {
   "cell_type": "code",
   "execution_count": 27,
   "metadata": {},
   "outputs": [
    {
     "name": "stdout",
     "output_type": "stream",
     "text": [
      "frac5 = 26/21\n"
     ]
    }
   ],
   "source": [
    "frac5=frac1.additionner(frac2)\n",
    "print(f\"frac5 = {frac5}\")"
   ]
  },
  {
   "cell_type": "code",
   "execution_count": 28,
   "metadata": {},
   "outputs": [
    {
     "name": "stdout",
     "output_type": "stream",
     "text": [
      "frac6 = 2/21\n"
     ]
    }
   ],
   "source": [
    "frac6=frac1.soustraire(frac2)\n",
    "print(f\"frac6 = {frac6}\")"
   ]
  },
  {
   "cell_type": "markdown",
   "metadata": {},
   "source": [
    "3) Créer enfin la méthode simplifier() permettant de simplifier une fraction en une fraction irréductible., puis tester avec la cellule ci-dessous :"
   ]
  },
  {
   "cell_type": "code",
   "execution_count": 45,
   "metadata": {},
   "outputs": [
    {
     "name": "stdout",
     "output_type": "stream",
     "text": [
      "La fraction simplifié de 32/128 = 1/4\n"
     ]
    }
   ],
   "source": [
    "frac7=Fractions(32,128)\n",
    "frac8=frac7.simplifier()\n",
    "print(f\"La fraction simplifié de {frac7} = {frac8}\")"
   ]
  }
 ],
 "metadata": {
  "kernelspec": {
   "display_name": "Python 3",
   "language": "python",
   "name": "python3"
  },
  "language_info": {
   "codemirror_mode": {
    "name": "ipython",
    "version": 3
   },
   "file_extension": ".py",
   "mimetype": "text/x-python",
   "name": "python",
   "nbconvert_exporter": "python",
   "pygments_lexer": "ipython3",
   "version": "3.7.3"
  }
 },
 "nbformat": 4,
 "nbformat_minor": 2
}
