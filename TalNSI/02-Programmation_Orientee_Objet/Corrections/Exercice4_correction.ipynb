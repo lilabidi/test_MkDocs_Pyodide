{
 "cells": [
  {
   "cell_type": "markdown",
   "metadata": {},
   "source": [
    "# La classe Livre"
   ]
  },
  {
   "cell_type": "code",
   "execution_count": 21,
   "metadata": {},
   "outputs": [],
   "source": [
    "class Livre:\n",
    "    def __init__(self,t,a1,a2,p):\n",
    "        self.set_titre(t)\n",
    "        self.set_auteur(a1,a2)\n",
    "        self.set_prix(p)\n",
    "\n",
    "    def set_titre(self,nouveau_t):\n",
    "        self.titre=nouveau_t\n",
    "        \n",
    "    def set_auteur(self,nouveau_prenom,nouveau_nom):\n",
    "        self.prenom=nouveau_prenom\n",
    "        self.nom=nouveau_nom\n",
    "\n",
    "    def set_prix(self,nouveau_p):\n",
    "        self.prix=nouveau_p\n",
    "    \n",
    "        \n",
    "    def get_titre(self):\n",
    "        return self.titre\n",
    "    \n",
    "    def get_auteur(self):\n",
    "        return self.prenom,self.nom\n",
    "\n",
    "    def get_prix(self):\n",
    "        return self.prix\n",
    "    \n",
    "    def __str__(self):\n",
    "        affiche=f\" Titre du livre : {self.get_titre()}, Auteur : {' '.join(self.get_auteur())}, Prix : {self.get_prix()} \"\n",
    "        return affiche"
   ]
  },
  {
   "cell_type": "code",
   "execution_count": 22,
   "metadata": {},
   "outputs": [
    {
     "name": "stdout",
     "output_type": "stream",
     "text": [
      " Titre du livre : Le Seigneur des anneaux, Auteur : JRR Tolkien, Prix : 30 \n",
      " Titre du livre : 4 3 2 1, Auteur : Paul Auster, Prix : 10 \n",
      " Titre du livre : Ca, Auteur : Stephen King, Prix : 8 \n"
     ]
    }
   ],
   "source": [
    "Livre1=Livre(\"Le Seigneur des anneaux\", \"JRR\",\"Tolkien\", 30)\n",
    "Livre2=Livre(\"4 3 2 1\", \"Paul\",\"Auster\", 10)\n",
    "Livre3=Livre(\"Ca\", \"Stephen\",\"King\", 8)\n",
    "print(Livre1)\n",
    "print(Livre2)\n",
    "print(Livre3)"
   ]
  }
 ],
 "metadata": {
  "kernelspec": {
   "display_name": "Python 3",
   "language": "python",
   "name": "python3"
  },
  "language_info": {
   "codemirror_mode": {
    "name": "ipython",
    "version": 3
   },
   "file_extension": ".py",
   "mimetype": "text/x-python",
   "name": "python",
   "nbconvert_exporter": "python",
   "pygments_lexer": "ipython3",
   "version": "3.7.3"
  }
 },
 "nbformat": 4,
 "nbformat_minor": 2
}
