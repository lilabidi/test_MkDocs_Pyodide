{
 "cells": [
  {
   "cell_type": "code",
   "execution_count": null,
   "metadata": {},
   "outputs": [],
   "source": []
  },
  {
   "cell_type": "code",
   "execution_count": 1,
   "metadata": {},
   "outputs": [],
   "source": [
    "class  Vehicule:\n",
    "    def  __init__(self,  marque,  modele,  km,  nbRevisions):\n",
    "        self.set_marque(marque)\n",
    "        self.set_modele(modele)\n",
    "        self.set_km(km)\n",
    "        self.set_nbRevisions(nbRevisions)\n",
    "        \n",
    "    def get_marque(self):\n",
    "        return self.marque\n",
    "    \n",
    "    def get_modele(self):\n",
    "        return self.modele\n",
    "    \n",
    "    def get_km(self):\n",
    "        return self.km\n",
    "    \n",
    "    def get_nbRevisions(self):\n",
    "        return self.nbRevisions\n",
    "\n",
    "    def set_marque(self,nouvel_marque):\n",
    "        self.marque=nouvel_marque\n",
    "    \n",
    "    def set_modele(self,nouveau_modele):\n",
    "        self.modele=nouveau_modele\n",
    "        \n",
    "    def set_km(self,nouveau_km):\n",
    "        self.km=nouveau_km\n",
    "        \n",
    "    def set_nbRevisions(self,nouvel_nbRevisions):\n",
    "        self.nbRevisions=nouvel_nbRevisions\n",
    "        \n",
    "    \n",
    "    def  bilan(self):\n",
    "        affiche=f\"La voiture est de marque {self.get_marque()}, le modèle est {self.get_modele()}, elle a {str(self.get_km())} km et a eu {str(self.get_nbRevisions())} révision(s)\"\n",
    "        return affiche        \n",
    "  \n",
    "  \n",
    "    def  faire_revision(self):\n",
    "        self.set_nbRevisions(self.get_km()//20000)\n",
    "  \n",
    "  \n",
    "    def  ajouter_km(self,  km_parcourus):\n",
    "        avant = self.get_km()\n",
    "        self.set_km(self.get_km() + km_parcourus)\n",
    "        apres = self.get_km()\n",
    "        \n",
    "        rev_avant = avant//20000\n",
    "        rev_apres = apres//20000\n",
    "        \n",
    "        if rev_avant < rev_apres :\n",
    "            self.faire_revision()\n",
    "        \n"
   ]
  },
  {
   "cell_type": "code",
   "execution_count": 2,
   "metadata": {},
   "outputs": [],
   "source": [
    "Voiture1 = Vehicule(\"Peugeot\",\"107\",0,0)\n",
    "Voiture2 = Vehicule(\"Peugeot\",\"207\",15000,0)\n",
    "Voiture3 = Vehicule(\"Peugeot\",\"307\",26000,1)"
   ]
  },
  {
   "cell_type": "code",
   "execution_count": 3,
   "metadata": {},
   "outputs": [
    {
     "name": "stdout",
     "output_type": "stream",
     "text": [
      "La voiture est de marque Peugeot, le modèle est 107, elle a 0 km et a eu 0 révision(s)\n",
      "La voiture est de marque Peugeot, le modèle est 207, elle a 15000 km et a eu 0 révision(s)\n",
      "La voiture est de marque Peugeot, le modèle est 307, elle a 26000 km et a eu 1 révision(s)\n"
     ]
    }
   ],
   "source": [
    "print(Voiture1.bilan())\n",
    "print(Voiture2.bilan())\n",
    "print(Voiture3.bilan())"
   ]
  },
  {
   "cell_type": "code",
   "execution_count": 4,
   "metadata": {},
   "outputs": [
    {
     "name": "stdout",
     "output_type": "stream",
     "text": [
      "La voiture est de marque Peugeot, le modèle est 207, elle a 19000 km et a eu 0 révision(s)\n",
      "La voiture est de marque Peugeot, le modèle est 207, elle a 21000 km et a eu 1 révision(s)\n"
     ]
    }
   ],
   "source": [
    "Voiture2.ajouter_km(4000)\n",
    "print(Voiture2.bilan())\n",
    "Voiture2.ajouter_km(2000)\n",
    "print(Voiture2.bilan())"
   ]
  }
 ],
 "metadata": {
  "kernelspec": {
   "display_name": "Python 3",
   "language": "python",
   "name": "python3"
  },
  "language_info": {
   "codemirror_mode": {
    "name": "ipython",
    "version": 3
   },
   "file_extension": ".py",
   "mimetype": "text/x-python",
   "name": "python",
   "nbconvert_exporter": "python",
   "pygments_lexer": "ipython3",
   "version": "3.7.3"
  }
 },
 "nbformat": 4,
 "nbformat_minor": 2
}
