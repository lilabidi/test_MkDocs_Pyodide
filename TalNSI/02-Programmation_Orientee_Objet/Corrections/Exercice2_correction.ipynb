{
 "cells": [
  {
   "cell_type": "markdown",
   "metadata": {},
   "source": [
    "1) Nom des attributs de R1 et R2 : longueur et largeur"
   ]
  },
  {
   "cell_type": "code",
   "execution_count": 1,
   "metadata": {},
   "outputs": [],
   "source": [
    "class  Rectangle:\n",
    "    def  __init__(self,  longueur,  largeur):\n",
    "        self.set_longueur(longueur)\n",
    "        self.set_largeur(largeur)\n",
    "        \n",
    "    def get_largeur(self):\n",
    "        return self.largeur\n",
    "    \n",
    "    def get_longueur(self):\n",
    "        return self.longueur\n",
    "\n",
    "    def set_longueur(self,nouvel_longueur):\n",
    "        self.longueur=nouvel_longueur\n",
    "    \n",
    "    def set_largeur(self,nouvel_largeur):\n",
    "        self.largeur=nouvel_largeur\n",
    "        \n",
    "\n",
    "    \n",
    "    def  afficher_perimetre(self):\n",
    "        p  =  2*(self.get_largeur()+self.get_longueur())\n",
    "        return  f\"le  perimetre  du  rectangle  est  :  {str(p)}\"\n",
    "    \n",
    "    \n",
    "    def  afficher_aire(self):\n",
    "        a = self.get_largeur() * self.get_longueur()\n",
    "        return f\"l'aire  du  rectangle  est  :  {str(a)}\"\n",
    "  \n",
    "  \n",
    "R1  =  Rectangle(4,3)\n",
    "R2  =  Rectangle(5,6)"
   ]
  },
  {
   "cell_type": "code",
   "execution_count": 2,
   "metadata": {},
   "outputs": [
    {
     "name": "stdout",
     "output_type": "stream",
     "text": [
      "le  perimetre  du  rectangle  est  :  14\n",
      "l'aire  du  rectangle  est  :  12\n",
      "le  perimetre  du  rectangle  est  :  22\n",
      "l'aire  du  rectangle  est  :  30\n"
     ]
    }
   ],
   "source": [
    "print(R1.afficher_perimetre())\n",
    "print(R1.afficher_aire())\n",
    "print(R2.afficher_perimetre())\n",
    "print(R2.afficher_aire())"
   ]
  }
 ],
 "metadata": {
  "kernelspec": {
   "display_name": "Python 3",
   "language": "python",
   "name": "python3"
  },
  "language_info": {
   "codemirror_mode": {
    "name": "ipython",
    "version": 3
   },
   "file_extension": ".py",
   "mimetype": "text/x-python",
   "name": "python",
   "nbconvert_exporter": "python",
   "pygments_lexer": "ipython3",
   "version": "3.7.3"
  }
 },
 "nbformat": 4,
 "nbformat_minor": 2
}
