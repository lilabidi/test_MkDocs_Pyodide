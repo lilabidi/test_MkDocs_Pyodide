{
 "cells": [
  {
   "cell_type": "markdown",
   "metadata": {},
   "source": [
    "# Classe Point"
   ]
  },
  {
   "cell_type": "code",
   "execution_count": 32,
   "metadata": {},
   "outputs": [],
   "source": [
    "from math import *"
   ]
  },
  {
   "cell_type": "code",
   "execution_count": 40,
   "metadata": {},
   "outputs": [],
   "source": [
    "class Point:\n",
    "    def __init__(self,abscisse,ordonnee):\n",
    "        self.set_x(abscisse)\n",
    "        self.set_y(ordonnee)\n",
    "        \n",
    "    def set_x(self,nouvel_x):\n",
    "        assert nouvel_x>=0, \"l'abscisse doit être positive\"\n",
    "        self.x=nouvel_x\n",
    "        \n",
    "    def set_y(self,nouvel_y):\n",
    "        self.y=nouvel_y   \n",
    "        \n",
    "    def get_x(self):\n",
    "        return self.x\n",
    "    \n",
    "    def get_y(self):\n",
    "        return self.y\n",
    "    \n",
    "\n",
    "    \n",
    "    def distance(self,autre):\n",
    "        d=sqrt((autre.get_x()-self.get_x())**2+(autre.get_y()-self.get_y())**2)\n",
    "        return d   \n",
    "    \n",
    "    \n",
    "    def __str__(self):\n",
    "        affiche=f\"({self.get_x()},{self.get_y()})\"\n",
    "        return affiche"
   ]
  },
  {
   "cell_type": "code",
   "execution_count": 38,
   "metadata": {},
   "outputs": [
    {
     "name": "stdout",
     "output_type": "stream",
     "text": [
      "A(1,2)\n",
      "B(3,4)\n",
      "AB = 2.8284271247461903\n"
     ]
    }
   ],
   "source": [
    "A=Point(1,2)\n",
    "B=Point(3,4)\n",
    "print(f\"A{A}\")\n",
    "print(f\"B{B}\")\n",
    "d=A.distance(B)\n",
    "print(f\"AB = {d}\")"
   ]
  },
  {
   "cell_type": "markdown",
   "metadata": {},
   "source": [
    "# Classe Segment"
   ]
  },
  {
   "cell_type": "code",
   "execution_count": 39,
   "metadata": {},
   "outputs": [],
   "source": [
    "class Segment:\n",
    "    def __init__(self,d,f):\n",
    "        self.set_debut(d)\n",
    "        self.set_fin(f)\n",
    "        \n",
    "    def set_debut(self,nouveau_d):\n",
    "        self.debut=nouveau_d\n",
    "        \n",
    "    def set_fin(self,nouvel_fin):\n",
    "        self.fin=nouvel_fin \n",
    "        \n",
    "    def get_debut(self):\n",
    "        return self.debut\n",
    "    \n",
    "    def get_fin(self):\n",
    "        return self.fin\n",
    "    \n",
    "    \n",
    "    def longueur(self):\n",
    "        d=sqrt((self.get_fin().get_x()-self.get_debut().get_x())**2+(self.get_fin().get_y()-self.get_debut().get_y())**2)\n",
    "        return d\n",
    "    \n",
    "    def milieu(self):\n",
    "        x_milieu=(self.get_debut().get_x()+self.get_fin().get_x())/2\n",
    "        y_milieu=(self.get_debut().get_y()+self.get_fin().get_y())/2\n",
    "        return Point(x_milieu,y_milieu)\n",
    "    \n",
    "    \n",
    "    \n",
    "    def __str__(self):\n",
    "        affiche=f\"[{self.get_debut()},{self.get_fin()}]\"\n",
    "        return affiche        "
   ]
  },
  {
   "cell_type": "code",
   "execution_count": 35,
   "metadata": {},
   "outputs": [
    {
     "name": "stdout",
     "output_type": "stream",
     "text": [
      "Segment AB : [(1,2),(3,4)]\n",
      "Milieu de AB : (2.0,3.0)\n",
      "AB = 2.8284271247461903\n"
     ]
    }
   ],
   "source": [
    "A=Point(1,2)\n",
    "B=Point(3,4)\n",
    "s1=Segment(A,B)\n",
    "I=s1.milieu()\n",
    "AB=s1.longueur()\n",
    "print(f\"Segment AB : {s1}\")\n",
    "print(f\"Milieu de AB : {I}\")\n",
    "print(f\"AB = {AB}\")"
   ]
  }
 ],
 "metadata": {
  "kernelspec": {
   "display_name": "Python 3",
   "language": "python",
   "name": "python3"
  },
  "language_info": {
   "codemirror_mode": {
    "name": "ipython",
    "version": 3
   },
   "file_extension": ".py",
   "mimetype": "text/x-python",
   "name": "python",
   "nbconvert_exporter": "python",
   "pygments_lexer": "ipython3",
   "version": "3.7.3"
  }
 },
 "nbformat": 4,
 "nbformat_minor": 2
}
