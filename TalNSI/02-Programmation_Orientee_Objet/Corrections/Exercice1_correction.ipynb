{
 "cells": [
  {
   "cell_type": "markdown",
   "metadata": {},
   "source": [
    "1) Attributs : nom et age\n",
    "\n",
    "2) La méthode Vieillir permet d'augmenter d'un certain nombre d'année (période) l'age d'une personne"
   ]
  },
  {
   "cell_type": "code",
   "execution_count": 1,
   "metadata": {},
   "outputs": [],
   "source": [
    "class  Personne:\n",
    "    def  __init__(self,  nom,  age):\n",
    "        self.set_nom(nom)\n",
    "        self.set_age(age)\n",
    "\n",
    "        \n",
    "    def set_nom(self,nouveau_nom):\n",
    "        self.nom=nouveau_nom\n",
    "    \n",
    "    def set_age(self,nouvel_age):\n",
    "        self.age=nouvel_age\n",
    "        \n",
    "    def get_nom(self):\n",
    "        return self.nom\n",
    "    \n",
    "    def get_age(self):\n",
    "        return self.age\n",
    "    \n",
    "    def  Vieillir(self,  periode):\n",
    "        self.set_age(self.get_age() + periode)\n",
    "        return  f\"le  nouvel  age  de  {self.get_nom()}  est : {str(self.get_age())}\"\n",
    "    \n",
    "Moi  =  Personne(\"Albert\",  51)\n",
    "Monchien  =  Personne(\"Rex\",  14)\n",
    "\n",
    "for  i  in  range(3):\n",
    "    Moi.Vieillir(1)\n",
    "    Monchien.Vieillir(7)"
   ]
  },
  {
   "cell_type": "code",
   "execution_count": 2,
   "metadata": {},
   "outputs": [
    {
     "data": {
      "text/plain": [
       "54"
      ]
     },
     "execution_count": 2,
     "metadata": {},
     "output_type": "execute_result"
    }
   ],
   "source": [
    "Moi.age"
   ]
  },
  {
   "cell_type": "markdown",
   "metadata": {},
   "source": [
    "3) Moi s'appelle Albert et à 51 ans avant la boucle Pour. La boucle Pour fait vieillir Moi de 1 an à chaque tour, et on fait 3 tours. On affiche donc 51+3=54 ans\n",
    "\n",
    "4) De même, l'âge de Rex augment de 7 ans à chaque tours de boucle Pour, soit 14+3x7=35 ans."
   ]
  },
  {
   "cell_type": "code",
   "execution_count": 3,
   "metadata": {},
   "outputs": [
    {
     "data": {
      "text/plain": [
       "35"
      ]
     },
     "execution_count": 3,
     "metadata": {},
     "output_type": "execute_result"
    }
   ],
   "source": [
    "Monchien.age"
   ]
  }
 ],
 "metadata": {
  "kernelspec": {
   "display_name": "Python 3",
   "language": "python",
   "name": "python3"
  },
  "language_info": {
   "codemirror_mode": {
    "name": "ipython",
    "version": 3
   },
   "file_extension": ".py",
   "mimetype": "text/x-python",
   "name": "python",
   "nbconvert_exporter": "python",
   "pygments_lexer": "ipython3",
   "version": "3.7.3"
  }
 },
 "nbformat": 4,
 "nbformat_minor": 2
}
