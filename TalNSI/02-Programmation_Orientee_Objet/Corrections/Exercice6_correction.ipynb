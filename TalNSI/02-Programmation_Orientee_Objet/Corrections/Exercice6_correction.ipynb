{
 "cells": [
  {
   "cell_type": "markdown",
   "metadata": {},
   "source": [
    "# La classe Employé"
   ]
  },
  {
   "cell_type": "code",
   "execution_count": 3,
   "metadata": {},
   "outputs": [],
   "source": [
    "from datetime import date"
   ]
  },
  {
   "cell_type": "code",
   "execution_count": 16,
   "metadata": {},
   "outputs": [],
   "source": [
    "class Employe:\n",
    "    def __init__(self,matricule,nom,prenom,dateNaissance,dateEmbauche,salaire):\n",
    "        self.set_matricule(matricule)\n",
    "        self.set_nom(nom)\n",
    "        self.set_prenom(prenom)\n",
    "        self.set_dateN(dateNaissance)\n",
    "        self.set_dateE(dateEmbauche)\n",
    "        self.set_salaire(salaire)\n",
    "        \n",
    "    def set_matricule(self,nouveau_matricule):\n",
    "        self.matricule=nouveau_matricule\n",
    "\n",
    "    def set_nom(self,nouveau_nom):\n",
    "        self.nom=nouveau_nom\n",
    "\n",
    "    def set_prenom(self,nouveau_prenom):\n",
    "        self.prenom=nouveau_prenom\n",
    "        \n",
    "    def set_dateN(self,nouvelle_dateN):\n",
    "        assert type(nouvelle_dateN)==tuple, \"la date doit être un tuple\"\n",
    "        assert len(nouvelle_dateN)==3, \"la date doit être de la forme (AAA,MM,JJ)\"\n",
    "        annee=nouvelle_dateN[0]\n",
    "        mois=nouvelle_dateN[1]\n",
    "        jour=nouvelle_dateN[2]\n",
    "        self.dateN=date(annee,mois,jour)\n",
    "\n",
    "    def set_dateE(self,nouvelle_dateE):\n",
    "        assert type(nouvelle_dateE)==tuple, \"la date doit être un tuple\"\n",
    "        assert len(nouvelle_dateE)==3, \"la date doit être de la forme (AAA,MM,JJ)\"\n",
    "        annee=nouvelle_dateE[0]\n",
    "        mois=nouvelle_dateE[1]\n",
    "        jour=nouvelle_dateE[2]\n",
    "        self.dateE=date(annee,mois,jour)\n",
    "        \n",
    "    def set_salaire(self,nouveau_salaire):\n",
    "        self.salaire=nouveau_salaire\n",
    "\n",
    "\n",
    "    def get_matricule(self):\n",
    "        return self.matricule\n",
    "\n",
    "    def get_nom(self):\n",
    "        return self.nom\n",
    "\n",
    "    def get_prenom(self):\n",
    "        return self.prenom\n",
    "        \n",
    "    def get_dateN(self):\n",
    "        return self.dateN\n",
    "\n",
    "    def get_dateE(self):\n",
    "        return self.dateE\n",
    "        \n",
    "    def get_salaire(self):\n",
    "        return self.salaire\n",
    "    \n",
    "    def age(self):\n",
    "        today = date.today()\n",
    "        return today.year - self.get_dateN().year - ((today.month, today.day) < (self.get_dateN().month, self.get_dateN().day))\n",
    "    \n",
    "    def anciennete(self):\n",
    "        today = date.today()\n",
    "        return today.year - self.get_dateE().year - ((today.month, today.day) < (self.get_dateE().month, self.get_dateE().day))        \n",
    "\n",
    "    def augmentationDuSalaire(self):\n",
    "        if self.anciennete()>=10:\n",
    "            self.set_salaire(self.get_salaire()*1.1)\n",
    "        elif 5<=self.anciennete()<10:\n",
    "            self.set_salaire(self.get_salaire()*1.05)\n",
    "        else:\n",
    "            self.set_salaire(self.get_salaire()*1.02)\n",
    "        salaire_en_cours=round(self.get_salaire(),2)\n",
    "        return salaire_en_cours\n",
    "    \n",
    "    def __str__(self):\n",
    "        affiche=f\" Matricule : [{self.get_matricule()}]\\n Nom complet : [{self.get_nom().upper()} {self.get_prenom()[0].upper()+self.get_prenom()[1:].lower()}] \\n Age : [{self.age()}] \\n Anciennete : [{self.anciennete()}] \\n Salaire début de carrière : [{self.get_salaire()}] \\n Salaire en cours : [{self.augmentationDuSalaire()}]\"\n",
    "        return affiche\n",
    "        "
   ]
  },
  {
   "cell_type": "code",
   "execution_count": 20,
   "metadata": {},
   "outputs": [
    {
     "name": "stdout",
     "output_type": "stream",
     "text": [
      " Matricule : [2332]\n",
      " Nom complet : [BEUCHER Angélique] \n",
      " Age : [35] \n",
      " Anciennete : [18] \n",
      " Salaire début de carrière : [1800] \n",
      " Salaire en cours : [1980.0]\n"
     ]
    }
   ],
   "source": [
    "employe1=Employe(\"2332\",\"Beucher\",\"aNgélique\",(1985,6,6),(2002,9,1),1800)\n",
    "print(employe1)"
   ]
  }
 ],
 "metadata": {
  "kernelspec": {
   "display_name": "Python 3",
   "language": "python",
   "name": "python3"
  },
  "language_info": {
   "codemirror_mode": {
    "name": "ipython",
    "version": 3
   },
   "file_extension": ".py",
   "mimetype": "text/x-python",
   "name": "python",
   "nbconvert_exporter": "python",
   "pygments_lexer": "ipython3",
   "version": "3.7.3"
  }
 },
 "nbformat": 4,
 "nbformat_minor": 2
}
